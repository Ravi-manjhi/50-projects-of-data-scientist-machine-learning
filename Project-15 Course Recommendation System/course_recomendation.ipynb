{
 "cells": [
  {
   "cell_type": "markdown",
   "metadata": {},
   "source": [
    "# Import Statements"
   ]
  },
  {
   "cell_type": "code",
   "execution_count": 1,
   "metadata": {},
   "outputs": [],
   "source": [
    "import pandas as pd\n",
    "import numpy as np\n",
    "from difflib import get_close_matches\n",
    "import neattext.functions as nfx\n",
    "from sklearn.metrics.pairwise import cosine_similarity\n",
    "from sklearn.feature_extraction.text import TfidfVectorizer, CountVectorizer\n"
   ]
  },
  {
   "cell_type": "code",
   "execution_count": 2,
   "metadata": {},
   "outputs": [],
   "source": [
    "df = pd.read_csv('./udemy_tech.csv').drop('index', axis=1)"
   ]
  },
  {
   "cell_type": "code",
   "execution_count": 3,
   "metadata": {},
   "outputs": [
    {
     "data": {
      "text/html": [
       "<div>\n",
       "<style scoped>\n",
       "    .dataframe tbody tr th:only-of-type {\n",
       "        vertical-align: middle;\n",
       "    }\n",
       "\n",
       "    .dataframe tbody tr th {\n",
       "        vertical-align: top;\n",
       "    }\n",
       "\n",
       "    .dataframe thead th {\n",
       "        text-align: right;\n",
       "    }\n",
       "</style>\n",
       "<table border=\"1\" class=\"dataframe\">\n",
       "  <thead>\n",
       "    <tr style=\"text-align: right;\">\n",
       "      <th></th>\n",
       "      <th>Title</th>\n",
       "      <th>Summary</th>\n",
       "      <th>Enrollment</th>\n",
       "      <th>Stars</th>\n",
       "      <th>Rating</th>\n",
       "      <th>Link</th>\n",
       "    </tr>\n",
       "  </thead>\n",
       "  <tbody>\n",
       "    <tr>\n",
       "      <th>0</th>\n",
       "      <td>2020 Complete Python Bootcamp: From Zero to He...</td>\n",
       "      <td>Learn Python like a Professional! Start from t...</td>\n",
       "      <td>1100093</td>\n",
       "      <td>4.6</td>\n",
       "      <td>318066</td>\n",
       "      <td>https://www.udemy.com/course/complete-python-b...</td>\n",
       "    </tr>\n",
       "    <tr>\n",
       "      <th>1</th>\n",
       "      <td>The Web Developer Bootcamp</td>\n",
       "      <td>The only course you need to learn web developm...</td>\n",
       "      <td>596726</td>\n",
       "      <td>4.6</td>\n",
       "      <td>182997</td>\n",
       "      <td>https://www.udemy.com/course/the-web-developer...</td>\n",
       "    </tr>\n",
       "    <tr>\n",
       "      <th>2</th>\n",
       "      <td>Machine Learning A-Z™: Hands-On Python &amp; R In ...</td>\n",
       "      <td>Learn to create Machine Learning Algorithms in...</td>\n",
       "      <td>692812</td>\n",
       "      <td>4.5</td>\n",
       "      <td>132228</td>\n",
       "      <td>https://www.udemy.com/course/machinelearning/</td>\n",
       "    </tr>\n",
       "    <tr>\n",
       "      <th>3</th>\n",
       "      <td>Angular - The Complete Guide (2020 Edition)</td>\n",
       "      <td>Master Angular 10 (formerly \"Angular 2\") and b...</td>\n",
       "      <td>422557</td>\n",
       "      <td>4.6</td>\n",
       "      <td>129984</td>\n",
       "      <td>https://www.udemy.com/course/the-complete-guid...</td>\n",
       "    </tr>\n",
       "    <tr>\n",
       "      <th>4</th>\n",
       "      <td>Java Programming Masterclass for Software Deve...</td>\n",
       "      <td>Learn Java In This Course And Become a Compute...</td>\n",
       "      <td>502572</td>\n",
       "      <td>4.6</td>\n",
       "      <td>123798</td>\n",
       "      <td>https://www.udemy.com/course/java-the-complete...</td>\n",
       "    </tr>\n",
       "  </tbody>\n",
       "</table>\n",
       "</div>"
      ],
      "text/plain": [
       "                                               Title  \\\n",
       "0  2020 Complete Python Bootcamp: From Zero to He...   \n",
       "1                         The Web Developer Bootcamp   \n",
       "2  Machine Learning A-Z™: Hands-On Python & R In ...   \n",
       "3        Angular - The Complete Guide (2020 Edition)   \n",
       "4  Java Programming Masterclass for Software Deve...   \n",
       "\n",
       "                                             Summary  Enrollment  Stars  \\\n",
       "0  Learn Python like a Professional! Start from t...     1100093    4.6   \n",
       "1  The only course you need to learn web developm...      596726    4.6   \n",
       "2  Learn to create Machine Learning Algorithms in...      692812    4.5   \n",
       "3  Master Angular 10 (formerly \"Angular 2\") and b...      422557    4.6   \n",
       "4  Learn Java In This Course And Become a Compute...      502572    4.6   \n",
       "\n",
       "   Rating                                               Link  \n",
       "0  318066  https://www.udemy.com/course/complete-python-b...  \n",
       "1  182997  https://www.udemy.com/course/the-web-developer...  \n",
       "2  132228      https://www.udemy.com/course/machinelearning/  \n",
       "3  129984  https://www.udemy.com/course/the-complete-guid...  \n",
       "4  123798  https://www.udemy.com/course/java-the-complete...  "
      ]
     },
     "execution_count": 3,
     "metadata": {},
     "output_type": "execute_result"
    }
   ],
   "source": [
    "df.head()"
   ]
  },
  {
   "cell_type": "code",
   "execution_count": 4,
   "metadata": {},
   "outputs": [
    {
     "name": "stdout",
     "output_type": "stream",
     "text": [
      "<class 'pandas.core.frame.DataFrame'>\n",
      "RangeIndex: 9964 entries, 0 to 9963\n",
      "Data columns (total 6 columns):\n",
      " #   Column      Non-Null Count  Dtype  \n",
      "---  ------      --------------  -----  \n",
      " 0   Title       9964 non-null   object \n",
      " 1   Summary     9960 non-null   object \n",
      " 2   Enrollment  9964 non-null   int64  \n",
      " 3   Stars       9964 non-null   float64\n",
      " 4   Rating      9964 non-null   int64  \n",
      " 5   Link        9964 non-null   object \n",
      "dtypes: float64(1), int64(2), object(3)\n",
      "memory usage: 467.2+ KB\n"
     ]
    }
   ],
   "source": [
    "df.info()"
   ]
  },
  {
   "cell_type": "code",
   "execution_count": 5,
   "metadata": {},
   "outputs": [],
   "source": [
    "def remove_text(x):\n",
    "    text = nfx.remove_punctuations(str(x))\n",
    "    text = nfx.remove_stopwords(text)\n",
    "    return nfx.remove_special_characters(text)\n",
    "\n",
    "\n",
    "text = df['Title'].apply(remove_text)\n",
    "sumarry = df['Summary'].apply(remove_text)\n",
    "\n",
    "df['course_title'] = text+' '+sumarry"
   ]
  },
  {
   "cell_type": "code",
   "execution_count": 6,
   "metadata": {},
   "outputs": [
    {
     "data": {
      "text/plain": [
       "'Machine Learning AZ HandsOn Python R Data Science Learn create Machine Learning Algorithms Python R Data Science experts Code templates included'"
      ]
     },
     "execution_count": 6,
     "metadata": {},
     "output_type": "execute_result"
    }
   ],
   "source": [
    "df['course_title'][2]"
   ]
  },
  {
   "cell_type": "code",
   "execution_count": 7,
   "metadata": {},
   "outputs": [],
   "source": [
    "# creating TfidfVectorizer Vectors\n",
    "tf_vector =TfidfVectorizer()\n",
    "t_mat = tf_vector.fit_transform(df['course_title'])"
   ]
  },
  {
   "cell_type": "code",
   "execution_count": 8,
   "metadata": {},
   "outputs": [
    {
     "data": {
      "text/plain": [
       "(9964, 9964)"
      ]
     },
     "execution_count": 8,
     "metadata": {},
     "output_type": "execute_result"
    }
   ],
   "source": [
    "cos_sim = cosine_similarity(t_mat)\n",
    "cos_sim.shape"
   ]
  },
  {
   "cell_type": "code",
   "execution_count": 9,
   "metadata": {},
   "outputs": [],
   "source": [
    "course_index = pd.Series(\n",
    "    df.index, index=df['course_title']\n",
    ")"
   ]
  },
  {
   "cell_type": "code",
   "execution_count": 17,
   "metadata": {},
   "outputs": [],
   "source": [
    "title = \"Web Developments django\""
   ]
  },
  {
   "cell_type": "code",
   "execution_count": 18,
   "metadata": {},
   "outputs": [
    {
     "name": "stdout",
     "output_type": "stream",
     "text": [
      "Web Development Flask Learn web development hour\n"
     ]
    }
   ],
   "source": [
    "search = get_close_matches(title, df['course_title'].to_list(), n=1, cutoff=0.25)[0]\n",
    "print(search)\n",
    "index = course_index[search]\n",
    "score = list(enumerate(cos_sim[index]))\n",
    "sorted_index = sorted(score, key=lambda x: x[1], reverse=True)[1:21]"
   ]
  },
  {
   "cell_type": "code",
   "execution_count": 19,
   "metadata": {},
   "outputs": [
    {
     "name": "stdout",
     "output_type": "stream",
     "text": [
      "Flask MegaTutorial Python Web Development complete introduction web development Python Flask -------- And Course Score:- 0.6460634157294922\n",
      "\n",
      "Python Flask FullStack Web Development beginners Learn create deploy web applications Python Flask -------- And Course Score:- 0.6219486615622661\n",
      "\n",
      "Complete beginners introduction web development Learn web development basics -------- And Course Score:- 0.5508446803322439\n",
      "\n",
      "FullStack Web Development Flask Learn create deploy simple powerful websites Flask Framework -------- And Course Score:- 0.543718012577323\n",
      "\n",
      "Python Flask Web Apps Python Create web apps Python Flask Framework -------- And Course Score:- 0.5144027669114769\n",
      "\n",
      "Flask Web Framework Familiarized fundamentals Flask framework API Development -------- And Course Score:- 0.5109901463345949\n",
      "\n",
      "Develop App Hour Learn Process Web Application Development -------- And Course Score:- 0.4984204090694361\n",
      "\n",
      "Web Development Beginners Bootcamp 2020 practical guide learn web development scratch -------- And Course Score:- 0.4840841564693162\n",
      "\n",
      "Rapid Flask web applications running time Flask -------- And Course Score:- 0.4768139310685805\n",
      "\n",
      "Python Flask Web Development REST API Postman JavaScript Python Flask Web Development Work JavaScript SoapUI JSON XML MySQL CSS REST API Postman Web Developer -------- And Course Score:- 0.4641691075481364\n",
      "\n",
      "Web Development Javascript Bootcamp Beginners Guide Web Development JavaScript -------- And Course Score:- 0.46191321631107957\n",
      "\n",
      "Advanced Scalable Python Web Development Flask Learn create scalable web applications serve millions users Flask MongoDB Amazon AWS -------- And Course Score:- 0.4487044620208543\n",
      "\n",
      "Learning Path Python Web Development Learn create scalable powerful web applications robust frameworks Flask Django -------- And Course Score:- 0.44827036140079796\n",
      "\n",
      "Learning Path Python Web Development Learn create scalable powerful web applications robust frameworks Flask Django -------- And Course Score:- 0.44827036140079796\n",
      "\n",
      "Learning Flask started Flask powerful web framework Python thats easy learn use -------- And Course Score:- 0.4436638432821842\n",
      "\n",
      "Practical Web development beginners HTML CSS JavaScript Practical learning basics web development Dive world web development create web HTML CSS JS -------- And Course Score:- 0.4322482365301167\n",
      "\n",
      "Complete web development Bootcamp Beginners 2020 course need learn web development HTML CSS JAVASCRIPT -------- And Course Score:- 0.42393451489959466\n",
      "\n",
      "Absolute Beginners Introduction web development Learn practical handson web development  HTML  CSS  JavaScript -------- And Course Score:- 0.42204630591101855\n",
      "\n",
      "Ultimate Flask Course Learn fundamentals Flask framework extensions -------- And Course Score:- 0.42132218442293856\n",
      "\n",
      "Python Flask Bootcamp Create Websites Flask Create awesome websites powerful Flask framework Python -------- And Course Score:- 0.41200575726891175\n",
      "\n"
     ]
    }
   ],
   "source": [
    "for i, sorted_score  in sorted_index:\n",
    "    courses = course_index[course_index == i].index[0]\n",
    "    print(courses,\"-------- And Course Score:-\",sorted_score)\n",
    "    print()\n",
    "\n"
   ]
  },
  {
   "cell_type": "code",
   "execution_count": null,
   "metadata": {},
   "outputs": [],
   "source": []
  }
 ],
 "metadata": {
  "kernelspec": {
   "display_name": "Python 3.10.7 64-bit",
   "language": "python",
   "name": "python3"
  },
  "language_info": {
   "codemirror_mode": {
    "name": "ipython",
    "version": 3
   },
   "file_extension": ".py",
   "mimetype": "text/x-python",
   "name": "python",
   "nbconvert_exporter": "python",
   "pygments_lexer": "ipython3",
   "version": "3.10.7"
  },
  "orig_nbformat": 4,
  "vscode": {
   "interpreter": {
    "hash": "c9be13488617121502a3a92869414cb991ed2543a9c3a97157b4520ac37e5a31"
   }
  }
 },
 "nbformat": 4,
 "nbformat_minor": 2
}
